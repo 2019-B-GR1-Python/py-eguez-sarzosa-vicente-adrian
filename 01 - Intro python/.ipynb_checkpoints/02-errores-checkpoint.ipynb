{
 "cells": [
  {
   "cell_type": "code",
   "execution_count": 7,
   "metadata": {},
   "outputs": [],
   "source": [
    "# adsasd asdasda SyntaxError\n",
    "# 0/0 ZeroDivisionError\n",
    "# a + b NameError\n",
    "# a = {'b':'b'}\n",
    "# a['c'] KeyError\n"
   ]
  },
  {
   "cell_type": "code",
   "execution_count": 16,
   "metadata": {},
   "outputs": [
    {
     "name": "stdout",
     "output_type": "stream",
     "text": [
      "Error agrupado comun\n"
     ]
    }
   ],
   "source": [
    "try:\n",
    "    # a + b\n",
    "    # 0/0\n",
    "    a = {'b':'b'}\n",
    "    a['c']\n",
    "except NameError as nameError:\n",
    "    print(\"Name error\")\n",
    "except (ZeroDivisionError, KeyError) as errorComun:\n",
    "    print(\"Error agrupado comun\")\n",
    "except Exception as error:\n",
    "    print(\"Error\")"
   ]
  },
  {
   "cell_type": "code",
   "execution_count": 18,
   "metadata": {},
   "outputs": [
    {
     "name": "stdout",
     "output_type": "stream",
     "text": [
      "Hola adrian\n"
     ]
    }
   ],
   "source": [
    "# Funciones\n",
    "def hola_mundo(): # None\n",
    "    print(\"Hola adrian\")\n",
    "hola_mundo()"
   ]
  },
  {
   "cell_type": "code",
   "execution_count": 23,
   "metadata": {},
   "outputs": [
    {
     "name": "stdout",
     "output_type": "stream",
     "text": [
      "suma 3\n"
     ]
    }
   ],
   "source": [
    "def sumar_dos_numeros(num_uno, num_dos): # Arg Requeridos\n",
    "    return num_uno + num_dos\n",
    "suma = sumar_dos_numeros(1,2)\n",
    "print(f\"suma {suma}\")"
   ]
  },
  {
   "cell_type": "code",
   "execution_count": 25,
   "metadata": {},
   "outputs": [
    {
     "name": "stdout",
     "output_type": "stream",
     "text": [
      "EPN\n",
      "ESPE\n"
     ]
    }
   ],
   "source": [
    "def imprimir_universidad(nombre = 'EPN'): # Arg. Opcional\n",
    "    print(f\"{nombre}\")\n",
    "imprimir_universidad()\n",
    "imprimir_universidad(\"ESPE\")"
   ]
  },
  {
   "cell_type": "code",
   "execution_count": 37,
   "metadata": {},
   "outputs": [
    {
     "name": "stdout",
     "output_type": "stream",
     "text": [
      "Color: Blanco\n",
      "Placa: abc-123\n",
      "Caballos de fuerza: 2000\n",
      "Año: 1970\n",
      "Color: Amazul\n",
      "Placa: def-456\n",
      "Caballos de fuerza: 3500\n",
      "Año: 2005\n",
      "Color: Cafe\n",
      "Placa: abc-324\n",
      "Caballos de fuerza: 3000\n",
      "Año: 1990\n"
     ]
    }
   ],
   "source": [
    "def imprimir_carro(color, placa, hp, anio = 1990):\n",
    "    print(f\"Color: {color}\")\n",
    "    print(f\"Placa: {placa}\")\n",
    "    print(f\"Caballos de fuerza: {hp}\")\n",
    "    print(f\"Año: {anio}\")\n",
    "\n",
    "imprimir_carro(\"Blanco\",\"abc-123\",2000,1970)\n",
    "imprimir_carro(anio = 2005,\n",
    "               color = \"Amazul\",\n",
    "               placa = \"def-456\",\n",
    "               hp = 3500)\n",
    "# Named Parameters\n",
    "# Positional Parameters\n",
    "imprimir_carro(\"Cafe\", anio=1990, placa=\"abc-324\", \n",
    "               hp=3000)\n",
    "\n",
    "# REGLAS\n",
    "# 1) Parametros requeridos 1ero, luego los opcionales\n",
    "# 2) Enviar SIEMPRE parametros requeridos\n",
    "# 3) Si ya se envia un parametro nombrado,\n",
    "#    los parametros que falten de enviarse van a tener\n",
    "#    que ser nombrados"
   ]
  },
  {
   "cell_type": "code",
   "execution_count": 49,
   "metadata": {},
   "outputs": [
    {
     "data": {
      "text/plain": [
       "6"
      ]
     },
     "execution_count": 49,
     "metadata": {},
     "output_type": "execute_result"
    }
   ],
   "source": [
    "def sumar_numeros(primer_numero,\n",
    "                 *numeros):  # Param. Infinitos\n",
    "    longitud = len(numeros)\n",
    "    if(longitud == 0):\n",
    "        return primer_numero\n",
    "    else:\n",
    "        suma = 0 + primer_numero\n",
    "        for numero in numeros:\n",
    "            suma = suma + numero\n",
    "        return suma\n",
    "sumar_numeros(1, 2, 3)"
   ]
  },
  {
   "cell_type": "code",
   "execution_count": 54,
   "metadata": {},
   "outputs": [
    {
     "name": "stdout",
     "output_type": "stream",
     "text": [
      "<class 'dict'>\n",
      "{'tiempo_espera': 10, 'conexiones': 55}\n"
     ]
    }
   ],
   "source": [
    "def imprimir_configuracion(nombre,\n",
    "                          valor = 10,\n",
    "                          **key_word_arguments):\n",
    "    ## kwargs\n",
    "    print(type(key_word_arguments))\n",
    "    print(key_word_arguments)\n",
    "imprimir_configuracion(nombre = \"config_1\", \n",
    "                       valor = 20,\n",
    "                       tiempo_espera = 10,\n",
    "                       conexiones = 55)"
   ]
  },
  {
   "cell_type": "code",
   "execution_count": 56,
   "metadata": {},
   "outputs": [
    {
     "name": "stdout",
     "output_type": "stream",
     "text": [
      "L1: Buenos dias\n",
      "\n"
     ]
    }
   ],
   "source": [
    "# Archivos\n",
    "try:\n",
    "    path = \"./frases.txt\"\n",
    "    archivo_abierto = open(path)\n",
    "    linea_uno = archivo_abierto.readline()\n",
    "    print(f\"L1: {linea_uno}\")\n",
    "    linea_dos = archivo_abierto.readline()\n",
    "    print(f\"L2: {linea_dos}\")\n",
    "    archivo_abierto.close()\n",
    "except Exception as error:\n",
    "    print(\"Error\")"
   ]
  },
  {
   "cell_type": "code",
   "execution_count": null,
   "metadata": {},
   "outputs": [],
   "source": []
  },
  {
   "cell_type": "code",
   "execution_count": null,
   "metadata": {},
   "outputs": [],
   "source": []
  },
  {
   "cell_type": "code",
   "execution_count": null,
   "metadata": {},
   "outputs": [],
   "source": []
  },
  {
   "cell_type": "code",
   "execution_count": null,
   "metadata": {},
   "outputs": [],
   "source": []
  },
  {
   "cell_type": "code",
   "execution_count": null,
   "metadata": {},
   "outputs": [],
   "source": []
  },
  {
   "cell_type": "code",
   "execution_count": null,
   "metadata": {},
   "outputs": [],
   "source": []
  },
  {
   "cell_type": "code",
   "execution_count": null,
   "metadata": {},
   "outputs": [],
   "source": []
  },
  {
   "cell_type": "code",
   "execution_count": null,
   "metadata": {},
   "outputs": [],
   "source": []
  },
  {
   "cell_type": "code",
   "execution_count": null,
   "metadata": {},
   "outputs": [],
   "source": []
  },
  {
   "cell_type": "code",
   "execution_count": null,
   "metadata": {},
   "outputs": [],
   "source": []
  },
  {
   "cell_type": "code",
   "execution_count": null,
   "metadata": {},
   "outputs": [],
   "source": []
  },
  {
   "cell_type": "code",
   "execution_count": null,
   "metadata": {},
   "outputs": [],
   "source": []
  },
  {
   "cell_type": "code",
   "execution_count": null,
   "metadata": {},
   "outputs": [],
   "source": []
  },
  {
   "cell_type": "code",
   "execution_count": null,
   "metadata": {},
   "outputs": [],
   "source": []
  },
  {
   "cell_type": "code",
   "execution_count": null,
   "metadata": {},
   "outputs": [],
   "source": []
  },
  {
   "cell_type": "code",
   "execution_count": null,
   "metadata": {},
   "outputs": [],
   "source": []
  },
  {
   "cell_type": "code",
   "execution_count": null,
   "metadata": {},
   "outputs": [],
   "source": []
  },
  {
   "cell_type": "code",
   "execution_count": null,
   "metadata": {},
   "outputs": [],
   "source": []
  }
 ],
 "metadata": {
  "kernelspec": {
   "display_name": "Python 3",
   "language": "python",
   "name": "python3"
  },
  "language_info": {
   "codemirror_mode": {
    "name": "ipython",
    "version": 3
   },
   "file_extension": ".py",
   "mimetype": "text/x-python",
   "name": "python",
   "nbconvert_exporter": "python",
   "pygments_lexer": "ipython3",
   "version": "3.7.3"
  }
 },
 "nbformat": 4,
 "nbformat_minor": 2
}
